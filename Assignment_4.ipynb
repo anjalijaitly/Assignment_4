{
 "cells": [
  {
   "cell_type": "markdown",
   "id": "19430e51",
   "metadata": {},
   "source": [
    "Q1. What exactly is []?\n",
    "\n",
    "[] is an empty list."
   ]
  },
  {
   "cell_type": "markdown",
   "id": "b654f54d",
   "metadata": {},
   "source": [
    "Q2. In a list values stored in a variable called spam, how would you assign the value'hello' as the third value?\n",
    "\n",
    "It can be done by using the insert function and specifying the index position along with the value to be inserted."
   ]
  },
  {
   "cell_type": "code",
   "execution_count": 3,
   "id": "1b1ed24c",
   "metadata": {},
   "outputs": [
    {
     "name": "stdout",
     "output_type": "stream",
     "text": [
      "[2, 4, 'hello', 6, 8, 10]\n"
     ]
    }
   ],
   "source": [
    "spam=[2,4,6,8,10]\n",
    "spam.insert(2,'hello')\n",
    "print(spam)"
   ]
  },
  {
   "cell_type": "markdown",
   "id": "131ee7f2",
   "metadata": {},
   "source": [
    "Q3. What is the value of spam[int(int('3'*2)/11)]?\n",
    "\n",
    "The calculation of above gives spam[3], therefore its value is 6 because it is and the index position 3."
   ]
  },
  {
   "cell_type": "code",
   "execution_count": 12,
   "id": "8d805e6b",
   "metadata": {},
   "outputs": [
    {
     "data": {
      "text/plain": [
       "6"
      ]
     },
     "execution_count": 12,
     "metadata": {},
     "output_type": "execute_result"
    }
   ],
   "source": [
    "spam[int(int('3'*2)/11)]"
   ]
  },
  {
   "cell_type": "markdown",
   "id": "106a0aff",
   "metadata": {},
   "source": [
    "Q4. What is the value of spam[-1]?\n",
    "\n",
    "It is 10"
   ]
  },
  {
   "cell_type": "code",
   "execution_count": 13,
   "id": "69d35ede",
   "metadata": {},
   "outputs": [
    {
     "data": {
      "text/plain": [
       "10"
      ]
     },
     "execution_count": 13,
     "metadata": {},
     "output_type": "execute_result"
    }
   ],
   "source": [
    "spam[-1]"
   ]
  },
  {
   "cell_type": "markdown",
   "id": "eeee1085",
   "metadata": {},
   "source": [
    "Q4.What is the value of spam[:2]?\n",
    "\n",
    "It is [2,4] i.e.the value on 0 and 1 index position."
   ]
  },
  {
   "cell_type": "code",
   "execution_count": 15,
   "id": "4509f347",
   "metadata": {},
   "outputs": [
    {
     "data": {
      "text/plain": [
       "[2, 4]"
      ]
     },
     "execution_count": 15,
     "metadata": {},
     "output_type": "execute_result"
    }
   ],
   "source": [
    "spam[:2]"
   ]
  },
  {
   "cell_type": "markdown",
   "id": "ef5343e5",
   "metadata": {},
   "source": [
    "Let's pretend bacon has the list[3.14,'cat',11,'cat',True] for the next three question.\n",
    "Q6. What is the value of bacon.index('cat')?\n",
    "\n",
    "It is 1, as it will give the first index position for 'cat'."
   ]
  },
  {
   "cell_type": "code",
   "execution_count": 1,
   "id": "fb92abd8",
   "metadata": {},
   "outputs": [
    {
     "data": {
      "text/plain": [
       "1"
      ]
     },
     "execution_count": 1,
     "metadata": {},
     "output_type": "execute_result"
    }
   ],
   "source": [
    "bacon=[3.14,'cat',11,'cat',True]\n",
    "bacon.index('cat')"
   ]
  },
  {
   "cell_type": "markdown",
   "id": "067cc04c",
   "metadata": {},
   "source": [
    "Q7. How does bacon.append(99) change the look of the list value in bacon?\n",
    "\n",
    "99 will be added at the end of the list."
   ]
  },
  {
   "cell_type": "code",
   "execution_count": 2,
   "id": "8f50017b",
   "metadata": {},
   "outputs": [],
   "source": [
    "bacon.append(99)"
   ]
  },
  {
   "cell_type": "code",
   "execution_count": 3,
   "id": "04df81ce",
   "metadata": {},
   "outputs": [
    {
     "name": "stdout",
     "output_type": "stream",
     "text": [
      "[3.14, 'cat', 11, 'cat', True, 99]\n"
     ]
    }
   ],
   "source": [
    "print(bacon)"
   ]
  },
  {
   "cell_type": "markdown",
   "id": "4d595f11",
   "metadata": {},
   "source": [
    "Q8.How does bacon.remove('cat') change the look of the list in bacon?\n",
    "\n",
    "'cat' will be removed from earliest index position in the list, i.e. from the index postion 1.\n"
   ]
  },
  {
   "cell_type": "code",
   "execution_count": 4,
   "id": "4fe7de33",
   "metadata": {},
   "outputs": [],
   "source": [
    "bacon.remove('cat')"
   ]
  },
  {
   "cell_type": "code",
   "execution_count": 5,
   "id": "e851ea1a",
   "metadata": {},
   "outputs": [
    {
     "name": "stdout",
     "output_type": "stream",
     "text": [
      "[3.14, 11, 'cat', True, 99]\n"
     ]
    }
   ],
   "source": [
    "print(bacon)"
   ]
  },
  {
   "cell_type": "markdown",
   "id": "d70e0e95",
   "metadata": {},
   "source": [
    "Q9. What are the list concantenation and list replication operators?\n",
    "\n",
    "List concantenation operator is \"+\" and list replication operator is \"*\".\n"
   ]
  },
  {
   "cell_type": "markdown",
   "id": "7f16e760",
   "metadata": {},
   "source": [
    "Q10. What is the difference between list method append() and insert()?\n",
    "\n",
    "append() inserts the data at the end of the list, while insert() inserts the data at the specified index number."
   ]
  },
  {
   "cell_type": "markdown",
   "id": "2265766c",
   "metadata": {},
   "source": [
    "Q.11 What ate the two methods for removing items from a list?\n",
    "\n",
    "The two methods to remove items from the list are pop() and remove().\n",
    "\n",
    "pop() can remove the item at the specified index position, if we do not mention the index number then it removes the item at the first index position.\n",
    "\n",
    "remove() removes the specified item from the list.\n",
    "\n"
   ]
  },
  {
   "cell_type": "markdown",
   "id": "3fc74469",
   "metadata": {},
   "source": [
    "Q12. Describe how list values and string values are identical.\n",
    "\n",
    "Both list and string are sequences.\n",
    "\n",
    "Both list and string values are iterable.\n",
    "\n",
    "Both list and string values can be concantenated.\n"
   ]
  },
  {
   "cell_type": "markdown",
   "id": "f5eb8a81",
   "metadata": {},
   "source": [
    "Q13. Whats the difference between tuples and lists?\n",
    "\n",
    "Tuples are immutable while lists are mutable."
   ]
  },
  {
   "cell_type": "markdown",
   "id": "a054ba7f",
   "metadata": {},
   "source": [
    "Q14. How do you type a tuple value that only contains integer 42?\n",
    "\n",
    "t=(42)"
   ]
  },
  {
   "cell_type": "markdown",
   "id": "a554f8ac",
   "metadata": {},
   "source": [
    "Q15. How do you get list value's tuple form? How do you get a tuple value's list form?\n",
    "\n",
    "l=[]\n",
    "\n",
    "t=()\n",
    "\n",
    "list to tuple: tuple(l)\n",
    "\n",
    "tuple to list: list(t)"
   ]
  },
  {
   "cell_type": "markdown",
   "id": "6e7aebf0",
   "metadata": {},
   "source": [
    "Q16. Variables that \"contain\" list values are not necessarily lists themselves. Instead what do they contain?\n",
    "\n",
    "They contain references to list values."
   ]
  },
  {
   "cell_type": "markdown",
   "id": "83a356fb",
   "metadata": {},
   "source": [
    "Q17.How do you distinguish between copy.copy() and copy.deepcopy?\n",
    "\n",
    "copy.copy() is used to make shallow copy of an object. \n",
    "\n",
    "copy.deepcopy() is used to make a deep copy of an object. Inserts copies into it of the objects found in the original"
   ]
  },
  {
   "cell_type": "code",
   "execution_count": null,
   "id": "8754d10f",
   "metadata": {},
   "outputs": [],
   "source": []
  }
 ],
 "metadata": {
  "kernelspec": {
   "display_name": "Python 3 (ipykernel)",
   "language": "python",
   "name": "python3"
  },
  "language_info": {
   "codemirror_mode": {
    "name": "ipython",
    "version": 3
   },
   "file_extension": ".py",
   "mimetype": "text/x-python",
   "name": "python",
   "nbconvert_exporter": "python",
   "pygments_lexer": "ipython3",
   "version": "3.9.12"
  }
 },
 "nbformat": 4,
 "nbformat_minor": 5
}
